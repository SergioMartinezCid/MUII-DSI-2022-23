{
  "nbformat": 4,
  "nbformat_minor": 0,
  "metadata": {
    "colab": {
      "provenance": [],
      "collapsed_sections": [
        "W2zu0e5aAvIR",
        "m5uJnx3vlyMn",
        "Vz4s-zD9ITp4",
        "5l-L0yYmIXbz",
        "OwqX5IfxIaWr"
      ],
      "include_colab_link": true
    },
    "kernelspec": {
      "name": "python3",
      "display_name": "Python 3"
    },
    "language_info": {
      "name": "python"
    }
  },
  "cells": [
    {
      "cell_type": "markdown",
      "metadata": {
        "id": "view-in-github",
        "colab_type": "text"
      },
      "source": [
        "<a href=\"https://colab.research.google.com/github/SergioMartinezCid/MUII-DSI-2022-23/blob/master/Clustering/DSI_Trabajo_Cl%C3%BAstering.ipynb\" target=\"_parent\"><img src=\"https://colab.research.google.com/assets/colab-badge.svg\" alt=\"Open In Colab\"/></a>"
      ]
    },
    {
      "cell_type": "markdown",
      "source": [
        "TODO\n",
        "* Hacer agregación de goles, fallos y efectividad\n",
        "* EGGoals y EGMissed considerar quitarlos por falta de datos (wtf? tiene bastantes)\n",
        "* Time, scoring, prod100 son complicados y probar con ellos y sin ellos\n",
        "* Validación (opcional)\n",
        "* Considerar quitar los partidos de la President Cup para las selecciones y no para los jugadores (Probar a hacerlo con y sin) (Chile queda muy alto pero porque en la president se enfrenta a equipos topochos)\n",
        "* Scoring: Metrica inventada que puntúa en función de todo lo demás. Es información agregada. Lo suyo sería quitarlo.\n",
        "* Jackknife (no se como se llama) para detectar outliers."
      ],
      "metadata": {
        "id": "SOEeWzsLBoSu"
      }
    },
    {
      "cell_type": "markdown",
      "source": [
        "# Importación de Datos"
      ],
      "metadata": {
        "id": "W2zu0e5aAvIR"
      }
    },
    {
      "cell_type": "code",
      "execution_count": null,
      "metadata": {
        "colab": {
          "base_uri": "https://localhost:8080/"
        },
        "id": "Lb_XcOjF-2iE",
        "outputId": "765ac79a-5aa3-4dfa-f324-d711f2b97887"
      },
      "outputs": [
        {
          "output_type": "stream",
          "name": "stdout",
          "text": [
            "--2023-02-27 18:47:14--  https://raw.githubusercontent.com/SergioMartinezCid/MUII-DSI-2022-23/master/Clustering/CSVORIGINAL.csv\n",
            "Resolving raw.githubusercontent.com (raw.githubusercontent.com)... 185.199.109.133, 185.199.108.133, 185.199.110.133, ...\n",
            "Connecting to raw.githubusercontent.com (raw.githubusercontent.com)|185.199.109.133|:443... connected.\n",
            "HTTP request sent, awaiting response... 200 OK\n",
            "Length: 350830 (343K) [text/plain]\n",
            "Saving to: ‘CSVORIGINAL.csv’\n",
            "\n",
            "\rCSVORIGINAL.csv       0%[                    ]       0  --.-KB/s               \rCSVORIGINAL.csv     100%[===================>] 342.61K  --.-KB/s    in 0.03s   \n",
            "\n",
            "2023-02-27 18:47:14 (10.0 MB/s) - ‘CSVORIGINAL.csv’ saved [350830/350830]\n",
            "\n"
          ]
        }
      ],
      "source": [
        "!wget -O CSVORIGINAL.csv https://raw.githubusercontent.com/SergioMartinezCid/MUII-DSI-2022-23/master/Clustering/CSVORIGINAL.csv"
      ]
    },
    {
      "cell_type": "code",
      "source": [
        "# Imports\n",
        "import pandas as pd\n",
        "import matplotlib.pyplot as plt\n",
        "import numpy as np\n",
        "from sklearn import preprocessing \n",
        "min_max_scaler = preprocessing.MinMaxScaler()\n",
        "from sklearn.decomposition import PCA"
      ],
      "metadata": {
        "id": "HKmSOb02A42I"
      },
      "execution_count": null,
      "outputs": []
    },
    {
      "cell_type": "code",
      "source": [
        "original_df = pd.read_csv('CSVORIGINAL.csv', delimiter='\\t', decimal=',')"
      ],
      "metadata": {
        "id": "fosNtdlXBHn7"
      },
      "execution_count": null,
      "outputs": []
    },
    {
      "cell_type": "code",
      "source": [
        "# Se borra la última fila, que es nula\n",
        "original_df = original_df.drop(3071, axis=0)\n",
        "# Se elimina la columna prod100 por tener información agregada con scoring\n",
        "original_df = original_df.drop(['prod100'], axis=1)\n",
        "# Se eliminan las columnas de las tarjetas roja, amarilla y azul por no tener información relevante (hay muy pocas situaciones en las que se haya sacado tarjeta)\n",
        "original_df = original_df.drop(['YC', 'RC', 'BC'], axis=1)\n",
        "# Comprobamos si ha quedado algún valor nulo\n",
        "original_df.isnull().values.any()\n",
        "original_df.head()"
      ],
      "metadata": {
        "colab": {
          "base_uri": "https://localhost:8080/",
          "height": 403
        },
        "id": "a6u3WIlFFTV1",
        "outputId": "f602b38b-e10a-4099-a298-126abc5b3f9a"
      },
      "execution_count": null,
      "outputs": [
        {
          "output_type": "execute_result",
          "data": {
            "text/plain": [
              "         Phase  Match No.    Match Team   No.             Name  7mGoals  \\\n",
              "0  Group Phase        1.0  EGY-CHI  EGY   5.0       OMAR Yahia      0.0   \n",
              "1  Group Phase        1.0  EGY-CHI  EGY  11.0     MOAMEN Ahmed      0.0   \n",
              "2  Group Phase        1.0  EGY-CHI  EGY  15.0     HESHAM Ahmed      0.0   \n",
              "3  Group Phase        1.0  EGY-CHI  EGY  24.0  ELMASRY Ibrahim      0.0   \n",
              "4  Group Phase        1.0  EGY-CHI  EGY  25.0      NAWAR Wisam      0.0   \n",
              "\n",
              "   7mMissed  6mGoals  6mMissed  ...  EGMissed  9mGoals  9mMissed   TF  2Min  \\\n",
              "0       0.0      2.0       0.0  ...       0.0      1.0       3.0  3.0   2.0   \n",
              "1       0.0      0.0       1.0  ...       0.0      0.0       0.0  0.0   0.0   \n",
              "2       0.0      0.0       0.0  ...       0.0      0.0       0.0  2.0   0.0   \n",
              "3       0.0      0.0       0.0  ...       0.0      0.0       0.0  0.0   1.0   \n",
              "4       0.0      0.0       0.0  ...       0.0      0.0       0.0  0.0   0.0   \n",
              "\n",
              "    AS   ST   BS       Time  scoring  \n",
              "0  4.0  1.0  0.0  47.583333     1.75  \n",
              "1  0.0  0.0  0.0  24.033333    -0.40  \n",
              "2  1.0  0.0  0.0  20.550000    -2.25  \n",
              "3  0.0  2.0  0.0  29.800000     2.80  \n",
              "4  0.0  0.0  0.0  11.250000     0.00  \n",
              "\n",
              "[5 rows x 27 columns]"
            ],
            "text/html": [
              "\n",
              "  <div id=\"df-c0acfcc2-fb9f-4f65-9432-b4446880d415\">\n",
              "    <div class=\"colab-df-container\">\n",
              "      <div>\n",
              "<style scoped>\n",
              "    .dataframe tbody tr th:only-of-type {\n",
              "        vertical-align: middle;\n",
              "    }\n",
              "\n",
              "    .dataframe tbody tr th {\n",
              "        vertical-align: top;\n",
              "    }\n",
              "\n",
              "    .dataframe thead th {\n",
              "        text-align: right;\n",
              "    }\n",
              "</style>\n",
              "<table border=\"1\" class=\"dataframe\">\n",
              "  <thead>\n",
              "    <tr style=\"text-align: right;\">\n",
              "      <th></th>\n",
              "      <th>Phase</th>\n",
              "      <th>Match No.</th>\n",
              "      <th>Match</th>\n",
              "      <th>Team</th>\n",
              "      <th>No.</th>\n",
              "      <th>Name</th>\n",
              "      <th>7mGoals</th>\n",
              "      <th>7mMissed</th>\n",
              "      <th>6mGoals</th>\n",
              "      <th>6mMissed</th>\n",
              "      <th>...</th>\n",
              "      <th>EGMissed</th>\n",
              "      <th>9mGoals</th>\n",
              "      <th>9mMissed</th>\n",
              "      <th>TF</th>\n",
              "      <th>2Min</th>\n",
              "      <th>AS</th>\n",
              "      <th>ST</th>\n",
              "      <th>BS</th>\n",
              "      <th>Time</th>\n",
              "      <th>scoring</th>\n",
              "    </tr>\n",
              "  </thead>\n",
              "  <tbody>\n",
              "    <tr>\n",
              "      <th>0</th>\n",
              "      <td>Group Phase</td>\n",
              "      <td>1.0</td>\n",
              "      <td>EGY-CHI</td>\n",
              "      <td>EGY</td>\n",
              "      <td>5.0</td>\n",
              "      <td>OMAR Yahia</td>\n",
              "      <td>0.0</td>\n",
              "      <td>0.0</td>\n",
              "      <td>2.0</td>\n",
              "      <td>0.0</td>\n",
              "      <td>...</td>\n",
              "      <td>0.0</td>\n",
              "      <td>1.0</td>\n",
              "      <td>3.0</td>\n",
              "      <td>3.0</td>\n",
              "      <td>2.0</td>\n",
              "      <td>4.0</td>\n",
              "      <td>1.0</td>\n",
              "      <td>0.0</td>\n",
              "      <td>47.583333</td>\n",
              "      <td>1.75</td>\n",
              "    </tr>\n",
              "    <tr>\n",
              "      <th>1</th>\n",
              "      <td>Group Phase</td>\n",
              "      <td>1.0</td>\n",
              "      <td>EGY-CHI</td>\n",
              "      <td>EGY</td>\n",
              "      <td>11.0</td>\n",
              "      <td>MOAMEN Ahmed</td>\n",
              "      <td>0.0</td>\n",
              "      <td>0.0</td>\n",
              "      <td>0.0</td>\n",
              "      <td>1.0</td>\n",
              "      <td>...</td>\n",
              "      <td>0.0</td>\n",
              "      <td>0.0</td>\n",
              "      <td>0.0</td>\n",
              "      <td>0.0</td>\n",
              "      <td>0.0</td>\n",
              "      <td>0.0</td>\n",
              "      <td>0.0</td>\n",
              "      <td>0.0</td>\n",
              "      <td>24.033333</td>\n",
              "      <td>-0.40</td>\n",
              "    </tr>\n",
              "    <tr>\n",
              "      <th>2</th>\n",
              "      <td>Group Phase</td>\n",
              "      <td>1.0</td>\n",
              "      <td>EGY-CHI</td>\n",
              "      <td>EGY</td>\n",
              "      <td>15.0</td>\n",
              "      <td>HESHAM Ahmed</td>\n",
              "      <td>0.0</td>\n",
              "      <td>0.0</td>\n",
              "      <td>0.0</td>\n",
              "      <td>0.0</td>\n",
              "      <td>...</td>\n",
              "      <td>0.0</td>\n",
              "      <td>0.0</td>\n",
              "      <td>0.0</td>\n",
              "      <td>2.0</td>\n",
              "      <td>0.0</td>\n",
              "      <td>1.0</td>\n",
              "      <td>0.0</td>\n",
              "      <td>0.0</td>\n",
              "      <td>20.550000</td>\n",
              "      <td>-2.25</td>\n",
              "    </tr>\n",
              "    <tr>\n",
              "      <th>3</th>\n",
              "      <td>Group Phase</td>\n",
              "      <td>1.0</td>\n",
              "      <td>EGY-CHI</td>\n",
              "      <td>EGY</td>\n",
              "      <td>24.0</td>\n",
              "      <td>ELMASRY Ibrahim</td>\n",
              "      <td>0.0</td>\n",
              "      <td>0.0</td>\n",
              "      <td>0.0</td>\n",
              "      <td>0.0</td>\n",
              "      <td>...</td>\n",
              "      <td>0.0</td>\n",
              "      <td>0.0</td>\n",
              "      <td>0.0</td>\n",
              "      <td>0.0</td>\n",
              "      <td>1.0</td>\n",
              "      <td>0.0</td>\n",
              "      <td>2.0</td>\n",
              "      <td>0.0</td>\n",
              "      <td>29.800000</td>\n",
              "      <td>2.80</td>\n",
              "    </tr>\n",
              "    <tr>\n",
              "      <th>4</th>\n",
              "      <td>Group Phase</td>\n",
              "      <td>1.0</td>\n",
              "      <td>EGY-CHI</td>\n",
              "      <td>EGY</td>\n",
              "      <td>25.0</td>\n",
              "      <td>NAWAR Wisam</td>\n",
              "      <td>0.0</td>\n",
              "      <td>0.0</td>\n",
              "      <td>0.0</td>\n",
              "      <td>0.0</td>\n",
              "      <td>...</td>\n",
              "      <td>0.0</td>\n",
              "      <td>0.0</td>\n",
              "      <td>0.0</td>\n",
              "      <td>0.0</td>\n",
              "      <td>0.0</td>\n",
              "      <td>0.0</td>\n",
              "      <td>0.0</td>\n",
              "      <td>0.0</td>\n",
              "      <td>11.250000</td>\n",
              "      <td>0.00</td>\n",
              "    </tr>\n",
              "  </tbody>\n",
              "</table>\n",
              "<p>5 rows × 27 columns</p>\n",
              "</div>\n",
              "      <button class=\"colab-df-convert\" onclick=\"convertToInteractive('df-c0acfcc2-fb9f-4f65-9432-b4446880d415')\"\n",
              "              title=\"Convert this dataframe to an interactive table.\"\n",
              "              style=\"display:none;\">\n",
              "        \n",
              "  <svg xmlns=\"http://www.w3.org/2000/svg\" height=\"24px\"viewBox=\"0 0 24 24\"\n",
              "       width=\"24px\">\n",
              "    <path d=\"M0 0h24v24H0V0z\" fill=\"none\"/>\n",
              "    <path d=\"M18.56 5.44l.94 2.06.94-2.06 2.06-.94-2.06-.94-.94-2.06-.94 2.06-2.06.94zm-11 1L8.5 8.5l.94-2.06 2.06-.94-2.06-.94L8.5 2.5l-.94 2.06-2.06.94zm10 10l.94 2.06.94-2.06 2.06-.94-2.06-.94-.94-2.06-.94 2.06-2.06.94z\"/><path d=\"M17.41 7.96l-1.37-1.37c-.4-.4-.92-.59-1.43-.59-.52 0-1.04.2-1.43.59L10.3 9.45l-7.72 7.72c-.78.78-.78 2.05 0 2.83L4 21.41c.39.39.9.59 1.41.59.51 0 1.02-.2 1.41-.59l7.78-7.78 2.81-2.81c.8-.78.8-2.07 0-2.86zM5.41 20L4 18.59l7.72-7.72 1.47 1.35L5.41 20z\"/>\n",
              "  </svg>\n",
              "      </button>\n",
              "      \n",
              "  <style>\n",
              "    .colab-df-container {\n",
              "      display:flex;\n",
              "      flex-wrap:wrap;\n",
              "      gap: 12px;\n",
              "    }\n",
              "\n",
              "    .colab-df-convert {\n",
              "      background-color: #E8F0FE;\n",
              "      border: none;\n",
              "      border-radius: 50%;\n",
              "      cursor: pointer;\n",
              "      display: none;\n",
              "      fill: #1967D2;\n",
              "      height: 32px;\n",
              "      padding: 0 0 0 0;\n",
              "      width: 32px;\n",
              "    }\n",
              "\n",
              "    .colab-df-convert:hover {\n",
              "      background-color: #E2EBFA;\n",
              "      box-shadow: 0px 1px 2px rgba(60, 64, 67, 0.3), 0px 1px 3px 1px rgba(60, 64, 67, 0.15);\n",
              "      fill: #174EA6;\n",
              "    }\n",
              "\n",
              "    [theme=dark] .colab-df-convert {\n",
              "      background-color: #3B4455;\n",
              "      fill: #D2E3FC;\n",
              "    }\n",
              "\n",
              "    [theme=dark] .colab-df-convert:hover {\n",
              "      background-color: #434B5C;\n",
              "      box-shadow: 0px 1px 3px 1px rgba(0, 0, 0, 0.15);\n",
              "      filter: drop-shadow(0px 1px 2px rgba(0, 0, 0, 0.3));\n",
              "      fill: #FFFFFF;\n",
              "    }\n",
              "  </style>\n",
              "\n",
              "      <script>\n",
              "        const buttonEl =\n",
              "          document.querySelector('#df-c0acfcc2-fb9f-4f65-9432-b4446880d415 button.colab-df-convert');\n",
              "        buttonEl.style.display =\n",
              "          google.colab.kernel.accessAllowed ? 'block' : 'none';\n",
              "\n",
              "        async function convertToInteractive(key) {\n",
              "          const element = document.querySelector('#df-c0acfcc2-fb9f-4f65-9432-b4446880d415');\n",
              "          const dataTable =\n",
              "            await google.colab.kernel.invokeFunction('convertToInteractive',\n",
              "                                                     [key], {});\n",
              "          if (!dataTable) return;\n",
              "\n",
              "          const docLinkHtml = 'Like what you see? Visit the ' +\n",
              "            '<a target=\"_blank\" href=https://colab.research.google.com/notebooks/data_table.ipynb>data table notebook</a>'\n",
              "            + ' to learn more about interactive tables.';\n",
              "          element.innerHTML = '';\n",
              "          dataTable['output_type'] = 'display_data';\n",
              "          await google.colab.output.renderOutput(dataTable, element);\n",
              "          const docLink = document.createElement('div');\n",
              "          docLink.innerHTML = docLinkHtml;\n",
              "          element.appendChild(docLink);\n",
              "        }\n",
              "      </script>\n",
              "    </div>\n",
              "  </div>\n",
              "  "
            ]
          },
          "metadata": {},
          "execution_count": 4
        }
      ]
    },
    {
      "cell_type": "markdown",
      "source": [
        "# Identificar los porteros\n",
        "\n",
        "Vamos a eliminar los porteros y jugadores defensivos ya que como los datos son mayormente ofensivos, los va a agrupar todos en un solo cluster."
      ],
      "metadata": {
        "id": "m5uJnx3vlyMn"
      }
    },
    {
      "cell_type": "code",
      "source": [
        "#Agrupamos por jugador\n",
        "# Quitamos Phase, Match No., Match, No. y Team por ser columnas identificativas que no son relevantes para los jugadores\n",
        "player_df = original_df.drop(['Phase', 'Match No.', 'Match', 'No.', 'Team'], axis=1)\n",
        "# Establecer la columna Name como index porque es una columna identificativa\n",
        "player_df = player_df.groupby(['Name'], as_index=False).sum()\n",
        "#Seleccionamos los porteros que serán las filas que tienen tiempo pero 0 scoring\n",
        "only_goalkeepers = player_df[(player_df.scoring==0)&(player_df.Time > 0)]\n",
        "only_goalkeepers.head()"
      ],
      "metadata": {
        "colab": {
          "base_uri": "https://localhost:8080/",
          "height": 351
        },
        "id": "E3h4Z20_l1DT",
        "outputId": "6eee1aff-f876-489b-a639-1b841a65ff3a"
      },
      "execution_count": null,
      "outputs": [
        {
          "output_type": "execute_result",
          "data": {
            "text/plain": [
              "                Name  7mGoals  7mMissed  6mGoals  6mMissed  WingGoals  \\\n",
              "7      ABIDI Mohamed      0.0       0.0      0.0       0.0        0.0   \n",
              "16        ALDERI Ali      0.0       0.0      0.0       0.0        0.0   \n",
              "23     ALMEIDA Cesar      0.0       0.0      0.0       0.0        0.0   \n",
              "24      ALMEIDA Luis      0.0       0.0      0.0       0.0        0.0   \n",
              "28  ALSHUWAIKH Qasim      0.0       0.0      0.0       0.0        0.0   \n",
              "\n",
              "    WingMissed  BTGoals  BTMissed  FBGoals  ...  EGMissed  9mGoals  9mMissed  \\\n",
              "7          0.0      0.0       0.0      0.0  ...       0.0      0.0       0.0   \n",
              "16         0.0      0.0       0.0      0.0  ...       0.0      0.0       0.0   \n",
              "23         0.0      0.0       0.0      0.0  ...       0.0      0.0       0.0   \n",
              "24         0.0      0.0       0.0      0.0  ...       0.0      0.0       0.0   \n",
              "28         0.0      0.0       0.0      0.0  ...       0.0      0.0       0.0   \n",
              "\n",
              "     TF  2Min   AS   ST   BS        Time  scoring  \n",
              "7   0.0   0.0  0.0  0.0  0.0  146.783333      0.0  \n",
              "16  0.0   0.0  0.0  0.0  0.0   23.866667      0.0  \n",
              "23  0.0   0.0  0.0  0.0  0.0   40.533333      0.0  \n",
              "24  0.0   0.0  0.0  0.0  0.0    7.466667      0.0  \n",
              "28  0.0   0.0  0.0  0.0  0.0   31.733333      0.0  \n",
              "\n",
              "[5 rows x 22 columns]"
            ],
            "text/html": [
              "\n",
              "  <div id=\"df-be554855-de4b-4637-ac66-edc91797eaf0\">\n",
              "    <div class=\"colab-df-container\">\n",
              "      <div>\n",
              "<style scoped>\n",
              "    .dataframe tbody tr th:only-of-type {\n",
              "        vertical-align: middle;\n",
              "    }\n",
              "\n",
              "    .dataframe tbody tr th {\n",
              "        vertical-align: top;\n",
              "    }\n",
              "\n",
              "    .dataframe thead th {\n",
              "        text-align: right;\n",
              "    }\n",
              "</style>\n",
              "<table border=\"1\" class=\"dataframe\">\n",
              "  <thead>\n",
              "    <tr style=\"text-align: right;\">\n",
              "      <th></th>\n",
              "      <th>Name</th>\n",
              "      <th>7mGoals</th>\n",
              "      <th>7mMissed</th>\n",
              "      <th>6mGoals</th>\n",
              "      <th>6mMissed</th>\n",
              "      <th>WingGoals</th>\n",
              "      <th>WingMissed</th>\n",
              "      <th>BTGoals</th>\n",
              "      <th>BTMissed</th>\n",
              "      <th>FBGoals</th>\n",
              "      <th>...</th>\n",
              "      <th>EGMissed</th>\n",
              "      <th>9mGoals</th>\n",
              "      <th>9mMissed</th>\n",
              "      <th>TF</th>\n",
              "      <th>2Min</th>\n",
              "      <th>AS</th>\n",
              "      <th>ST</th>\n",
              "      <th>BS</th>\n",
              "      <th>Time</th>\n",
              "      <th>scoring</th>\n",
              "    </tr>\n",
              "  </thead>\n",
              "  <tbody>\n",
              "    <tr>\n",
              "      <th>7</th>\n",
              "      <td>ABIDI Mohamed</td>\n",
              "      <td>0.0</td>\n",
              "      <td>0.0</td>\n",
              "      <td>0.0</td>\n",
              "      <td>0.0</td>\n",
              "      <td>0.0</td>\n",
              "      <td>0.0</td>\n",
              "      <td>0.0</td>\n",
              "      <td>0.0</td>\n",
              "      <td>0.0</td>\n",
              "      <td>...</td>\n",
              "      <td>0.0</td>\n",
              "      <td>0.0</td>\n",
              "      <td>0.0</td>\n",
              "      <td>0.0</td>\n",
              "      <td>0.0</td>\n",
              "      <td>0.0</td>\n",
              "      <td>0.0</td>\n",
              "      <td>0.0</td>\n",
              "      <td>146.783333</td>\n",
              "      <td>0.0</td>\n",
              "    </tr>\n",
              "    <tr>\n",
              "      <th>16</th>\n",
              "      <td>ALDERI Ali</td>\n",
              "      <td>0.0</td>\n",
              "      <td>0.0</td>\n",
              "      <td>0.0</td>\n",
              "      <td>0.0</td>\n",
              "      <td>0.0</td>\n",
              "      <td>0.0</td>\n",
              "      <td>0.0</td>\n",
              "      <td>0.0</td>\n",
              "      <td>0.0</td>\n",
              "      <td>...</td>\n",
              "      <td>0.0</td>\n",
              "      <td>0.0</td>\n",
              "      <td>0.0</td>\n",
              "      <td>0.0</td>\n",
              "      <td>0.0</td>\n",
              "      <td>0.0</td>\n",
              "      <td>0.0</td>\n",
              "      <td>0.0</td>\n",
              "      <td>23.866667</td>\n",
              "      <td>0.0</td>\n",
              "    </tr>\n",
              "    <tr>\n",
              "      <th>23</th>\n",
              "      <td>ALMEIDA Cesar</td>\n",
              "      <td>0.0</td>\n",
              "      <td>0.0</td>\n",
              "      <td>0.0</td>\n",
              "      <td>0.0</td>\n",
              "      <td>0.0</td>\n",
              "      <td>0.0</td>\n",
              "      <td>0.0</td>\n",
              "      <td>0.0</td>\n",
              "      <td>0.0</td>\n",
              "      <td>...</td>\n",
              "      <td>0.0</td>\n",
              "      <td>0.0</td>\n",
              "      <td>0.0</td>\n",
              "      <td>0.0</td>\n",
              "      <td>0.0</td>\n",
              "      <td>0.0</td>\n",
              "      <td>0.0</td>\n",
              "      <td>0.0</td>\n",
              "      <td>40.533333</td>\n",
              "      <td>0.0</td>\n",
              "    </tr>\n",
              "    <tr>\n",
              "      <th>24</th>\n",
              "      <td>ALMEIDA Luis</td>\n",
              "      <td>0.0</td>\n",
              "      <td>0.0</td>\n",
              "      <td>0.0</td>\n",
              "      <td>0.0</td>\n",
              "      <td>0.0</td>\n",
              "      <td>0.0</td>\n",
              "      <td>0.0</td>\n",
              "      <td>0.0</td>\n",
              "      <td>0.0</td>\n",
              "      <td>...</td>\n",
              "      <td>0.0</td>\n",
              "      <td>0.0</td>\n",
              "      <td>0.0</td>\n",
              "      <td>0.0</td>\n",
              "      <td>0.0</td>\n",
              "      <td>0.0</td>\n",
              "      <td>0.0</td>\n",
              "      <td>0.0</td>\n",
              "      <td>7.466667</td>\n",
              "      <td>0.0</td>\n",
              "    </tr>\n",
              "    <tr>\n",
              "      <th>28</th>\n",
              "      <td>ALSHUWAIKH Qasim</td>\n",
              "      <td>0.0</td>\n",
              "      <td>0.0</td>\n",
              "      <td>0.0</td>\n",
              "      <td>0.0</td>\n",
              "      <td>0.0</td>\n",
              "      <td>0.0</td>\n",
              "      <td>0.0</td>\n",
              "      <td>0.0</td>\n",
              "      <td>0.0</td>\n",
              "      <td>...</td>\n",
              "      <td>0.0</td>\n",
              "      <td>0.0</td>\n",
              "      <td>0.0</td>\n",
              "      <td>0.0</td>\n",
              "      <td>0.0</td>\n",
              "      <td>0.0</td>\n",
              "      <td>0.0</td>\n",
              "      <td>0.0</td>\n",
              "      <td>31.733333</td>\n",
              "      <td>0.0</td>\n",
              "    </tr>\n",
              "  </tbody>\n",
              "</table>\n",
              "<p>5 rows × 22 columns</p>\n",
              "</div>\n",
              "      <button class=\"colab-df-convert\" onclick=\"convertToInteractive('df-be554855-de4b-4637-ac66-edc91797eaf0')\"\n",
              "              title=\"Convert this dataframe to an interactive table.\"\n",
              "              style=\"display:none;\">\n",
              "        \n",
              "  <svg xmlns=\"http://www.w3.org/2000/svg\" height=\"24px\"viewBox=\"0 0 24 24\"\n",
              "       width=\"24px\">\n",
              "    <path d=\"M0 0h24v24H0V0z\" fill=\"none\"/>\n",
              "    <path d=\"M18.56 5.44l.94 2.06.94-2.06 2.06-.94-2.06-.94-.94-2.06-.94 2.06-2.06.94zm-11 1L8.5 8.5l.94-2.06 2.06-.94-2.06-.94L8.5 2.5l-.94 2.06-2.06.94zm10 10l.94 2.06.94-2.06 2.06-.94-2.06-.94-.94-2.06-.94 2.06-2.06.94z\"/><path d=\"M17.41 7.96l-1.37-1.37c-.4-.4-.92-.59-1.43-.59-.52 0-1.04.2-1.43.59L10.3 9.45l-7.72 7.72c-.78.78-.78 2.05 0 2.83L4 21.41c.39.39.9.59 1.41.59.51 0 1.02-.2 1.41-.59l7.78-7.78 2.81-2.81c.8-.78.8-2.07 0-2.86zM5.41 20L4 18.59l7.72-7.72 1.47 1.35L5.41 20z\"/>\n",
              "  </svg>\n",
              "      </button>\n",
              "      \n",
              "  <style>\n",
              "    .colab-df-container {\n",
              "      display:flex;\n",
              "      flex-wrap:wrap;\n",
              "      gap: 12px;\n",
              "    }\n",
              "\n",
              "    .colab-df-convert {\n",
              "      background-color: #E8F0FE;\n",
              "      border: none;\n",
              "      border-radius: 50%;\n",
              "      cursor: pointer;\n",
              "      display: none;\n",
              "      fill: #1967D2;\n",
              "      height: 32px;\n",
              "      padding: 0 0 0 0;\n",
              "      width: 32px;\n",
              "    }\n",
              "\n",
              "    .colab-df-convert:hover {\n",
              "      background-color: #E2EBFA;\n",
              "      box-shadow: 0px 1px 2px rgba(60, 64, 67, 0.3), 0px 1px 3px 1px rgba(60, 64, 67, 0.15);\n",
              "      fill: #174EA6;\n",
              "    }\n",
              "\n",
              "    [theme=dark] .colab-df-convert {\n",
              "      background-color: #3B4455;\n",
              "      fill: #D2E3FC;\n",
              "    }\n",
              "\n",
              "    [theme=dark] .colab-df-convert:hover {\n",
              "      background-color: #434B5C;\n",
              "      box-shadow: 0px 1px 3px 1px rgba(0, 0, 0, 0.15);\n",
              "      filter: drop-shadow(0px 1px 2px rgba(0, 0, 0, 0.3));\n",
              "      fill: #FFFFFF;\n",
              "    }\n",
              "  </style>\n",
              "\n",
              "      <script>\n",
              "        const buttonEl =\n",
              "          document.querySelector('#df-be554855-de4b-4637-ac66-edc91797eaf0 button.colab-df-convert');\n",
              "        buttonEl.style.display =\n",
              "          google.colab.kernel.accessAllowed ? 'block' : 'none';\n",
              "\n",
              "        async function convertToInteractive(key) {\n",
              "          const element = document.querySelector('#df-be554855-de4b-4637-ac66-edc91797eaf0');\n",
              "          const dataTable =\n",
              "            await google.colab.kernel.invokeFunction('convertToInteractive',\n",
              "                                                     [key], {});\n",
              "          if (!dataTable) return;\n",
              "\n",
              "          const docLinkHtml = 'Like what you see? Visit the ' +\n",
              "            '<a target=\"_blank\" href=https://colab.research.google.com/notebooks/data_table.ipynb>data table notebook</a>'\n",
              "            + ' to learn more about interactive tables.';\n",
              "          element.innerHTML = '';\n",
              "          dataTable['output_type'] = 'display_data';\n",
              "          await google.colab.output.renderOutput(dataTable, element);\n",
              "          const docLink = document.createElement('div');\n",
              "          docLink.innerHTML = docLinkHtml;\n",
              "          element.appendChild(docLink);\n",
              "        }\n",
              "      </script>\n",
              "    </div>\n",
              "  </div>\n",
              "  "
            ]
          },
          "metadata": {},
          "execution_count": 5
        }
      ]
    },
    {
      "cell_type": "markdown",
      "source": [
        "# Agregación de Datos"
      ],
      "metadata": {
        "id": "WmxsMGI6Cd6Q"
      }
    },
    {
      "cell_type": "markdown",
      "source": [
        "## Por equipos"
      ],
      "metadata": {
        "id": "GtTIEXUzdH0v"
      }
    },
    {
      "cell_type": "markdown",
      "source": [
        "### Incluyendo porteros"
      ],
      "metadata": {
        "id": "qccy4KeKIDSL"
      }
    },
    {
      "cell_type": "code",
      "source": [
        "# Quitamos Phase, Match No., Match, No. y Name por ser columnas identificativas que no son relevantes para los equipos\n",
        "team_goalkeepers_df = original_df.drop(['Phase', 'Match No.', 'Match', 'No.', 'Name'], axis=1)\n",
        "\n",
        "# Quitamos Time porque para los equipos no es relevante porque jugarán más los que lleguen a la final\n",
        "#team_goalkeepers_df = team_goalkeepers_df.drop('Time',axis=1)\n",
        "# Quitamos Scoring porque es info agregada de los demás datos\n",
        "team_goalkeepers_df = team_goalkeepers_df.drop('scoring',axis=1)\n",
        "# Establecer la columna Team como index porque es una columna identificativa\n",
        "team_goalkeepers_df = team_goalkeepers_df.groupby(['Team'], as_index=True).sum()\n",
        "\n",
        "# Normalizamos los datos\n",
        "team_goalkeepers_df[['7mGoals', '7mMissed', '6mGoals', '6mMissed', 'WingGoals', 'WingMissed', 'BTGoals', 'BTMissed', 'FBGoals', 'FBMissed', 'EGGoals', 'EGMissed', '9mGoals', '9mMissed', 'TF', '2Min', 'AS', 'ST', 'BS']] = min_max_scaler.fit_transform(team_goalkeepers_df[['7mGoals', '7mMissed', '6mGoals', '6mMissed', 'WingGoals', 'WingMissed', 'BTGoals', 'BTMissed', 'FBGoals', 'FBMissed', 'EGGoals', 'EGMissed', '9mGoals', '9mMissed', 'TF', '2Min', 'AS', 'ST', 'BS']])\n",
        "team_goalkeepers_df.head()"
      ],
      "metadata": {
        "id": "mOYVd2YPDMC7",
        "colab": {
          "base_uri": "https://localhost:8080/",
          "height": 301
        },
        "outputId": "809fbd84-a5d2-4201-cfa4-814efa47f72a"
      },
      "execution_count": null,
      "outputs": [
        {
          "output_type": "execute_result",
          "data": {
            "text/plain": [
              "       7mGoals  7mMissed   6mGoals  6mMissed  WingGoals  WingMissed   BTGoals  \\\n",
              "Team                                                                            \n",
              "ALG   0.464286  0.428571  0.305556  0.580645   0.265306    0.538462  0.600000   \n",
              "ANG   0.464286  1.000000  0.402778  0.354839   0.346939    0.269231  0.533333   \n",
              "ARG   0.250000  0.357143  0.347222  0.548387   0.244898    0.576923  0.333333   \n",
              "AUT   0.750000  0.428571  0.597222  0.387097   0.571429    0.461538  0.822222   \n",
              "BLR   0.214286  0.142857  0.500000  0.645161   0.612245    0.576923  0.400000   \n",
              "\n",
              "      BTMissed   FBGoals  FBMissed   EGGoals  EGMissed   9mGoals  9mMissed  \\\n",
              "Team                                                                         \n",
              "ALG   0.333333  0.062500  0.357143  0.454545  0.333333  0.508475  0.911765   \n",
              "ANG   0.066667  0.104167  0.357143  0.090909  0.166667  0.796610  0.882353   \n",
              "ARG   0.266667  0.333333  0.214286  0.545455  0.333333  0.203390  0.294118   \n",
              "AUT   0.200000  0.562500  0.642857  0.363636  0.500000  0.559322  0.661765   \n",
              "BLR   0.066667  0.229167  0.071429  0.272727  0.333333  0.677966  0.632353   \n",
              "\n",
              "            TF      2Min        AS        ST        BS    Time  \n",
              "Team                                                            \n",
              "ALG   0.546512  0.628571  0.259542  0.390244  0.100000  2520.0  \n",
              "ANG   0.651163  0.600000  0.396947  0.195122  0.300000  2520.0  \n",
              "ARG   0.546512  0.457143  0.244275  0.097561  0.100000  2100.0  \n",
              "AUT   0.755814  0.828571  0.641221  0.707317  0.400000  2940.0  \n",
              "BLR   0.488372  0.742857  0.374046  0.170732  0.433333  2520.0  "
            ],
            "text/html": [
              "\n",
              "  <div id=\"df-bcc9ca9e-2fc1-4cb1-a26b-d18a7f48dec1\">\n",
              "    <div class=\"colab-df-container\">\n",
              "      <div>\n",
              "<style scoped>\n",
              "    .dataframe tbody tr th:only-of-type {\n",
              "        vertical-align: middle;\n",
              "    }\n",
              "\n",
              "    .dataframe tbody tr th {\n",
              "        vertical-align: top;\n",
              "    }\n",
              "\n",
              "    .dataframe thead th {\n",
              "        text-align: right;\n",
              "    }\n",
              "</style>\n",
              "<table border=\"1\" class=\"dataframe\">\n",
              "  <thead>\n",
              "    <tr style=\"text-align: right;\">\n",
              "      <th></th>\n",
              "      <th>7mGoals</th>\n",
              "      <th>7mMissed</th>\n",
              "      <th>6mGoals</th>\n",
              "      <th>6mMissed</th>\n",
              "      <th>WingGoals</th>\n",
              "      <th>WingMissed</th>\n",
              "      <th>BTGoals</th>\n",
              "      <th>BTMissed</th>\n",
              "      <th>FBGoals</th>\n",
              "      <th>FBMissed</th>\n",
              "      <th>EGGoals</th>\n",
              "      <th>EGMissed</th>\n",
              "      <th>9mGoals</th>\n",
              "      <th>9mMissed</th>\n",
              "      <th>TF</th>\n",
              "      <th>2Min</th>\n",
              "      <th>AS</th>\n",
              "      <th>ST</th>\n",
              "      <th>BS</th>\n",
              "      <th>Time</th>\n",
              "    </tr>\n",
              "    <tr>\n",
              "      <th>Team</th>\n",
              "      <th></th>\n",
              "      <th></th>\n",
              "      <th></th>\n",
              "      <th></th>\n",
              "      <th></th>\n",
              "      <th></th>\n",
              "      <th></th>\n",
              "      <th></th>\n",
              "      <th></th>\n",
              "      <th></th>\n",
              "      <th></th>\n",
              "      <th></th>\n",
              "      <th></th>\n",
              "      <th></th>\n",
              "      <th></th>\n",
              "      <th></th>\n",
              "      <th></th>\n",
              "      <th></th>\n",
              "      <th></th>\n",
              "      <th></th>\n",
              "    </tr>\n",
              "  </thead>\n",
              "  <tbody>\n",
              "    <tr>\n",
              "      <th>ALG</th>\n",
              "      <td>0.464286</td>\n",
              "      <td>0.428571</td>\n",
              "      <td>0.305556</td>\n",
              "      <td>0.580645</td>\n",
              "      <td>0.265306</td>\n",
              "      <td>0.538462</td>\n",
              "      <td>0.600000</td>\n",
              "      <td>0.333333</td>\n",
              "      <td>0.062500</td>\n",
              "      <td>0.357143</td>\n",
              "      <td>0.454545</td>\n",
              "      <td>0.333333</td>\n",
              "      <td>0.508475</td>\n",
              "      <td>0.911765</td>\n",
              "      <td>0.546512</td>\n",
              "      <td>0.628571</td>\n",
              "      <td>0.259542</td>\n",
              "      <td>0.390244</td>\n",
              "      <td>0.100000</td>\n",
              "      <td>2520.0</td>\n",
              "    </tr>\n",
              "    <tr>\n",
              "      <th>ANG</th>\n",
              "      <td>0.464286</td>\n",
              "      <td>1.000000</td>\n",
              "      <td>0.402778</td>\n",
              "      <td>0.354839</td>\n",
              "      <td>0.346939</td>\n",
              "      <td>0.269231</td>\n",
              "      <td>0.533333</td>\n",
              "      <td>0.066667</td>\n",
              "      <td>0.104167</td>\n",
              "      <td>0.357143</td>\n",
              "      <td>0.090909</td>\n",
              "      <td>0.166667</td>\n",
              "      <td>0.796610</td>\n",
              "      <td>0.882353</td>\n",
              "      <td>0.651163</td>\n",
              "      <td>0.600000</td>\n",
              "      <td>0.396947</td>\n",
              "      <td>0.195122</td>\n",
              "      <td>0.300000</td>\n",
              "      <td>2520.0</td>\n",
              "    </tr>\n",
              "    <tr>\n",
              "      <th>ARG</th>\n",
              "      <td>0.250000</td>\n",
              "      <td>0.357143</td>\n",
              "      <td>0.347222</td>\n",
              "      <td>0.548387</td>\n",
              "      <td>0.244898</td>\n",
              "      <td>0.576923</td>\n",
              "      <td>0.333333</td>\n",
              "      <td>0.266667</td>\n",
              "      <td>0.333333</td>\n",
              "      <td>0.214286</td>\n",
              "      <td>0.545455</td>\n",
              "      <td>0.333333</td>\n",
              "      <td>0.203390</td>\n",
              "      <td>0.294118</td>\n",
              "      <td>0.546512</td>\n",
              "      <td>0.457143</td>\n",
              "      <td>0.244275</td>\n",
              "      <td>0.097561</td>\n",
              "      <td>0.100000</td>\n",
              "      <td>2100.0</td>\n",
              "    </tr>\n",
              "    <tr>\n",
              "      <th>AUT</th>\n",
              "      <td>0.750000</td>\n",
              "      <td>0.428571</td>\n",
              "      <td>0.597222</td>\n",
              "      <td>0.387097</td>\n",
              "      <td>0.571429</td>\n",
              "      <td>0.461538</td>\n",
              "      <td>0.822222</td>\n",
              "      <td>0.200000</td>\n",
              "      <td>0.562500</td>\n",
              "      <td>0.642857</td>\n",
              "      <td>0.363636</td>\n",
              "      <td>0.500000</td>\n",
              "      <td>0.559322</td>\n",
              "      <td>0.661765</td>\n",
              "      <td>0.755814</td>\n",
              "      <td>0.828571</td>\n",
              "      <td>0.641221</td>\n",
              "      <td>0.707317</td>\n",
              "      <td>0.400000</td>\n",
              "      <td>2940.0</td>\n",
              "    </tr>\n",
              "    <tr>\n",
              "      <th>BLR</th>\n",
              "      <td>0.214286</td>\n",
              "      <td>0.142857</td>\n",
              "      <td>0.500000</td>\n",
              "      <td>0.645161</td>\n",
              "      <td>0.612245</td>\n",
              "      <td>0.576923</td>\n",
              "      <td>0.400000</td>\n",
              "      <td>0.066667</td>\n",
              "      <td>0.229167</td>\n",
              "      <td>0.071429</td>\n",
              "      <td>0.272727</td>\n",
              "      <td>0.333333</td>\n",
              "      <td>0.677966</td>\n",
              "      <td>0.632353</td>\n",
              "      <td>0.488372</td>\n",
              "      <td>0.742857</td>\n",
              "      <td>0.374046</td>\n",
              "      <td>0.170732</td>\n",
              "      <td>0.433333</td>\n",
              "      <td>2520.0</td>\n",
              "    </tr>\n",
              "  </tbody>\n",
              "</table>\n",
              "</div>\n",
              "      <button class=\"colab-df-convert\" onclick=\"convertToInteractive('df-bcc9ca9e-2fc1-4cb1-a26b-d18a7f48dec1')\"\n",
              "              title=\"Convert this dataframe to an interactive table.\"\n",
              "              style=\"display:none;\">\n",
              "        \n",
              "  <svg xmlns=\"http://www.w3.org/2000/svg\" height=\"24px\"viewBox=\"0 0 24 24\"\n",
              "       width=\"24px\">\n",
              "    <path d=\"M0 0h24v24H0V0z\" fill=\"none\"/>\n",
              "    <path d=\"M18.56 5.44l.94 2.06.94-2.06 2.06-.94-2.06-.94-.94-2.06-.94 2.06-2.06.94zm-11 1L8.5 8.5l.94-2.06 2.06-.94-2.06-.94L8.5 2.5l-.94 2.06-2.06.94zm10 10l.94 2.06.94-2.06 2.06-.94-2.06-.94-.94-2.06-.94 2.06-2.06.94z\"/><path d=\"M17.41 7.96l-1.37-1.37c-.4-.4-.92-.59-1.43-.59-.52 0-1.04.2-1.43.59L10.3 9.45l-7.72 7.72c-.78.78-.78 2.05 0 2.83L4 21.41c.39.39.9.59 1.41.59.51 0 1.02-.2 1.41-.59l7.78-7.78 2.81-2.81c.8-.78.8-2.07 0-2.86zM5.41 20L4 18.59l7.72-7.72 1.47 1.35L5.41 20z\"/>\n",
              "  </svg>\n",
              "      </button>\n",
              "      \n",
              "  <style>\n",
              "    .colab-df-container {\n",
              "      display:flex;\n",
              "      flex-wrap:wrap;\n",
              "      gap: 12px;\n",
              "    }\n",
              "\n",
              "    .colab-df-convert {\n",
              "      background-color: #E8F0FE;\n",
              "      border: none;\n",
              "      border-radius: 50%;\n",
              "      cursor: pointer;\n",
              "      display: none;\n",
              "      fill: #1967D2;\n",
              "      height: 32px;\n",
              "      padding: 0 0 0 0;\n",
              "      width: 32px;\n",
              "    }\n",
              "\n",
              "    .colab-df-convert:hover {\n",
              "      background-color: #E2EBFA;\n",
              "      box-shadow: 0px 1px 2px rgba(60, 64, 67, 0.3), 0px 1px 3px 1px rgba(60, 64, 67, 0.15);\n",
              "      fill: #174EA6;\n",
              "    }\n",
              "\n",
              "    [theme=dark] .colab-df-convert {\n",
              "      background-color: #3B4455;\n",
              "      fill: #D2E3FC;\n",
              "    }\n",
              "\n",
              "    [theme=dark] .colab-df-convert:hover {\n",
              "      background-color: #434B5C;\n",
              "      box-shadow: 0px 1px 3px 1px rgba(0, 0, 0, 0.15);\n",
              "      filter: drop-shadow(0px 1px 2px rgba(0, 0, 0, 0.3));\n",
              "      fill: #FFFFFF;\n",
              "    }\n",
              "  </style>\n",
              "\n",
              "      <script>\n",
              "        const buttonEl =\n",
              "          document.querySelector('#df-bcc9ca9e-2fc1-4cb1-a26b-d18a7f48dec1 button.colab-df-convert');\n",
              "        buttonEl.style.display =\n",
              "          google.colab.kernel.accessAllowed ? 'block' : 'none';\n",
              "\n",
              "        async function convertToInteractive(key) {\n",
              "          const element = document.querySelector('#df-bcc9ca9e-2fc1-4cb1-a26b-d18a7f48dec1');\n",
              "          const dataTable =\n",
              "            await google.colab.kernel.invokeFunction('convertToInteractive',\n",
              "                                                     [key], {});\n",
              "          if (!dataTable) return;\n",
              "\n",
              "          const docLinkHtml = 'Like what you see? Visit the ' +\n",
              "            '<a target=\"_blank\" href=https://colab.research.google.com/notebooks/data_table.ipynb>data table notebook</a>'\n",
              "            + ' to learn more about interactive tables.';\n",
              "          element.innerHTML = '';\n",
              "          dataTable['output_type'] = 'display_data';\n",
              "          await google.colab.output.renderOutput(dataTable, element);\n",
              "          const docLink = document.createElement('div');\n",
              "          docLink.innerHTML = docLinkHtml;\n",
              "          element.appendChild(docLink);\n",
              "        }\n",
              "      </script>\n",
              "    </div>\n",
              "  </div>\n",
              "  "
            ]
          },
          "metadata": {},
          "execution_count": 6
        }
      ]
    },
    {
      "cell_type": "markdown",
      "source": [
        "### Excluyendo porteros"
      ],
      "metadata": {
        "id": "mMhOX0fBH-2V"
      }
    },
    {
      "cell_type": "code",
      "source": [
        "# Eliminamos los porteros\n",
        "team_no_goalkeepers_df = original_df.copy()\n",
        "team_no_goalkeepers_df = team_no_goalkeepers_df[~team_no_goalkeepers_df['Name'].isin(only_goalkeepers['Name'])]\n",
        "# Quitamos Phase, Match No., Match, No. y Name por ser columnas identificativas que no son relevantes para los equipos\n",
        "team_no_goalkeepers_df = original_df.drop(['Phase', 'Match No.', 'Match', 'No.', 'Name'], axis=1)\n",
        "# Quitamos Time porque para los equipos no es relevante porque jugarán más los que lleguen a la final\n",
        "#team_no_goalkeepers_df = team_no_goalkeepers_df.drop('Time',axis=1)\n",
        "# Quitamos Scoring porque es info agregada de los demás datos\n",
        "team_no_goalkeepers_df = team_no_goalkeepers_df.drop('scoring',axis=1)\n",
        "# Establecer la columna Team como index porque es una columna identificativa\n",
        "team_no_goalkeepers_df = team_no_goalkeepers_df.groupby(['Team'], as_index=True).sum()\n",
        "# Normalizamos los datos\n",
        "team_no_goalkeepers_df[['7mGoals', '7mMissed', '6mGoals', '6mMissed', 'WingGoals', 'WingMissed', 'BTGoals', 'BTMissed', 'FBGoals', 'FBMissed', 'EGGoals', 'EGMissed', '9mGoals', '9mMissed', 'TF', '2Min', 'AS', 'ST', 'BS']] = min_max_scaler.fit_transform(team_no_goalkeepers_df[['7mGoals', '7mMissed', '6mGoals', '6mMissed', 'WingGoals', 'WingMissed', 'BTGoals', 'BTMissed', 'FBGoals', 'FBMissed', 'EGGoals', 'EGMissed', '9mGoals', '9mMissed', 'TF', '2Min', 'AS', 'ST', 'BS']])\n",
        "\n",
        "team_no_goalkeepers_df.head()"
      ],
      "metadata": {
        "colab": {
          "base_uri": "https://localhost:8080/",
          "height": 301
        },
        "id": "_15LxpXcfQ1-",
        "outputId": "984e730e-ba41-44c8-b5a7-dbc56ab1ad88"
      },
      "execution_count": null,
      "outputs": [
        {
          "output_type": "execute_result",
          "data": {
            "text/plain": [
              "       7mGoals  7mMissed   6mGoals  6mMissed  WingGoals  WingMissed   BTGoals  \\\n",
              "Team                                                                            \n",
              "ALG   0.464286  0.428571  0.305556  0.580645   0.265306    0.538462  0.600000   \n",
              "ANG   0.464286  1.000000  0.402778  0.354839   0.346939    0.269231  0.533333   \n",
              "ARG   0.250000  0.357143  0.347222  0.548387   0.244898    0.576923  0.333333   \n",
              "AUT   0.750000  0.428571  0.597222  0.387097   0.571429    0.461538  0.822222   \n",
              "BLR   0.214286  0.142857  0.500000  0.645161   0.612245    0.576923  0.400000   \n",
              "\n",
              "      BTMissed   FBGoals  FBMissed   EGGoals  EGMissed   9mGoals  9mMissed  \\\n",
              "Team                                                                         \n",
              "ALG   0.333333  0.062500  0.357143  0.454545  0.333333  0.508475  0.911765   \n",
              "ANG   0.066667  0.104167  0.357143  0.090909  0.166667  0.796610  0.882353   \n",
              "ARG   0.266667  0.333333  0.214286  0.545455  0.333333  0.203390  0.294118   \n",
              "AUT   0.200000  0.562500  0.642857  0.363636  0.500000  0.559322  0.661765   \n",
              "BLR   0.066667  0.229167  0.071429  0.272727  0.333333  0.677966  0.632353   \n",
              "\n",
              "            TF      2Min        AS        ST        BS    Time  \n",
              "Team                                                            \n",
              "ALG   0.546512  0.628571  0.259542  0.390244  0.100000  2520.0  \n",
              "ANG   0.651163  0.600000  0.396947  0.195122  0.300000  2520.0  \n",
              "ARG   0.546512  0.457143  0.244275  0.097561  0.100000  2100.0  \n",
              "AUT   0.755814  0.828571  0.641221  0.707317  0.400000  2940.0  \n",
              "BLR   0.488372  0.742857  0.374046  0.170732  0.433333  2520.0  "
            ],
            "text/html": [
              "\n",
              "  <div id=\"df-ea407a90-4988-4027-98a0-63ad6c44de8b\">\n",
              "    <div class=\"colab-df-container\">\n",
              "      <div>\n",
              "<style scoped>\n",
              "    .dataframe tbody tr th:only-of-type {\n",
              "        vertical-align: middle;\n",
              "    }\n",
              "\n",
              "    .dataframe tbody tr th {\n",
              "        vertical-align: top;\n",
              "    }\n",
              "\n",
              "    .dataframe thead th {\n",
              "        text-align: right;\n",
              "    }\n",
              "</style>\n",
              "<table border=\"1\" class=\"dataframe\">\n",
              "  <thead>\n",
              "    <tr style=\"text-align: right;\">\n",
              "      <th></th>\n",
              "      <th>7mGoals</th>\n",
              "      <th>7mMissed</th>\n",
              "      <th>6mGoals</th>\n",
              "      <th>6mMissed</th>\n",
              "      <th>WingGoals</th>\n",
              "      <th>WingMissed</th>\n",
              "      <th>BTGoals</th>\n",
              "      <th>BTMissed</th>\n",
              "      <th>FBGoals</th>\n",
              "      <th>FBMissed</th>\n",
              "      <th>EGGoals</th>\n",
              "      <th>EGMissed</th>\n",
              "      <th>9mGoals</th>\n",
              "      <th>9mMissed</th>\n",
              "      <th>TF</th>\n",
              "      <th>2Min</th>\n",
              "      <th>AS</th>\n",
              "      <th>ST</th>\n",
              "      <th>BS</th>\n",
              "      <th>Time</th>\n",
              "    </tr>\n",
              "    <tr>\n",
              "      <th>Team</th>\n",
              "      <th></th>\n",
              "      <th></th>\n",
              "      <th></th>\n",
              "      <th></th>\n",
              "      <th></th>\n",
              "      <th></th>\n",
              "      <th></th>\n",
              "      <th></th>\n",
              "      <th></th>\n",
              "      <th></th>\n",
              "      <th></th>\n",
              "      <th></th>\n",
              "      <th></th>\n",
              "      <th></th>\n",
              "      <th></th>\n",
              "      <th></th>\n",
              "      <th></th>\n",
              "      <th></th>\n",
              "      <th></th>\n",
              "      <th></th>\n",
              "    </tr>\n",
              "  </thead>\n",
              "  <tbody>\n",
              "    <tr>\n",
              "      <th>ALG</th>\n",
              "      <td>0.464286</td>\n",
              "      <td>0.428571</td>\n",
              "      <td>0.305556</td>\n",
              "      <td>0.580645</td>\n",
              "      <td>0.265306</td>\n",
              "      <td>0.538462</td>\n",
              "      <td>0.600000</td>\n",
              "      <td>0.333333</td>\n",
              "      <td>0.062500</td>\n",
              "      <td>0.357143</td>\n",
              "      <td>0.454545</td>\n",
              "      <td>0.333333</td>\n",
              "      <td>0.508475</td>\n",
              "      <td>0.911765</td>\n",
              "      <td>0.546512</td>\n",
              "      <td>0.628571</td>\n",
              "      <td>0.259542</td>\n",
              "      <td>0.390244</td>\n",
              "      <td>0.100000</td>\n",
              "      <td>2520.0</td>\n",
              "    </tr>\n",
              "    <tr>\n",
              "      <th>ANG</th>\n",
              "      <td>0.464286</td>\n",
              "      <td>1.000000</td>\n",
              "      <td>0.402778</td>\n",
              "      <td>0.354839</td>\n",
              "      <td>0.346939</td>\n",
              "      <td>0.269231</td>\n",
              "      <td>0.533333</td>\n",
              "      <td>0.066667</td>\n",
              "      <td>0.104167</td>\n",
              "      <td>0.357143</td>\n",
              "      <td>0.090909</td>\n",
              "      <td>0.166667</td>\n",
              "      <td>0.796610</td>\n",
              "      <td>0.882353</td>\n",
              "      <td>0.651163</td>\n",
              "      <td>0.600000</td>\n",
              "      <td>0.396947</td>\n",
              "      <td>0.195122</td>\n",
              "      <td>0.300000</td>\n",
              "      <td>2520.0</td>\n",
              "    </tr>\n",
              "    <tr>\n",
              "      <th>ARG</th>\n",
              "      <td>0.250000</td>\n",
              "      <td>0.357143</td>\n",
              "      <td>0.347222</td>\n",
              "      <td>0.548387</td>\n",
              "      <td>0.244898</td>\n",
              "      <td>0.576923</td>\n",
              "      <td>0.333333</td>\n",
              "      <td>0.266667</td>\n",
              "      <td>0.333333</td>\n",
              "      <td>0.214286</td>\n",
              "      <td>0.545455</td>\n",
              "      <td>0.333333</td>\n",
              "      <td>0.203390</td>\n",
              "      <td>0.294118</td>\n",
              "      <td>0.546512</td>\n",
              "      <td>0.457143</td>\n",
              "      <td>0.244275</td>\n",
              "      <td>0.097561</td>\n",
              "      <td>0.100000</td>\n",
              "      <td>2100.0</td>\n",
              "    </tr>\n",
              "    <tr>\n",
              "      <th>AUT</th>\n",
              "      <td>0.750000</td>\n",
              "      <td>0.428571</td>\n",
              "      <td>0.597222</td>\n",
              "      <td>0.387097</td>\n",
              "      <td>0.571429</td>\n",
              "      <td>0.461538</td>\n",
              "      <td>0.822222</td>\n",
              "      <td>0.200000</td>\n",
              "      <td>0.562500</td>\n",
              "      <td>0.642857</td>\n",
              "      <td>0.363636</td>\n",
              "      <td>0.500000</td>\n",
              "      <td>0.559322</td>\n",
              "      <td>0.661765</td>\n",
              "      <td>0.755814</td>\n",
              "      <td>0.828571</td>\n",
              "      <td>0.641221</td>\n",
              "      <td>0.707317</td>\n",
              "      <td>0.400000</td>\n",
              "      <td>2940.0</td>\n",
              "    </tr>\n",
              "    <tr>\n",
              "      <th>BLR</th>\n",
              "      <td>0.214286</td>\n",
              "      <td>0.142857</td>\n",
              "      <td>0.500000</td>\n",
              "      <td>0.645161</td>\n",
              "      <td>0.612245</td>\n",
              "      <td>0.576923</td>\n",
              "      <td>0.400000</td>\n",
              "      <td>0.066667</td>\n",
              "      <td>0.229167</td>\n",
              "      <td>0.071429</td>\n",
              "      <td>0.272727</td>\n",
              "      <td>0.333333</td>\n",
              "      <td>0.677966</td>\n",
              "      <td>0.632353</td>\n",
              "      <td>0.488372</td>\n",
              "      <td>0.742857</td>\n",
              "      <td>0.374046</td>\n",
              "      <td>0.170732</td>\n",
              "      <td>0.433333</td>\n",
              "      <td>2520.0</td>\n",
              "    </tr>\n",
              "  </tbody>\n",
              "</table>\n",
              "</div>\n",
              "      <button class=\"colab-df-convert\" onclick=\"convertToInteractive('df-ea407a90-4988-4027-98a0-63ad6c44de8b')\"\n",
              "              title=\"Convert this dataframe to an interactive table.\"\n",
              "              style=\"display:none;\">\n",
              "        \n",
              "  <svg xmlns=\"http://www.w3.org/2000/svg\" height=\"24px\"viewBox=\"0 0 24 24\"\n",
              "       width=\"24px\">\n",
              "    <path d=\"M0 0h24v24H0V0z\" fill=\"none\"/>\n",
              "    <path d=\"M18.56 5.44l.94 2.06.94-2.06 2.06-.94-2.06-.94-.94-2.06-.94 2.06-2.06.94zm-11 1L8.5 8.5l.94-2.06 2.06-.94-2.06-.94L8.5 2.5l-.94 2.06-2.06.94zm10 10l.94 2.06.94-2.06 2.06-.94-2.06-.94-.94-2.06-.94 2.06-2.06.94z\"/><path d=\"M17.41 7.96l-1.37-1.37c-.4-.4-.92-.59-1.43-.59-.52 0-1.04.2-1.43.59L10.3 9.45l-7.72 7.72c-.78.78-.78 2.05 0 2.83L4 21.41c.39.39.9.59 1.41.59.51 0 1.02-.2 1.41-.59l7.78-7.78 2.81-2.81c.8-.78.8-2.07 0-2.86zM5.41 20L4 18.59l7.72-7.72 1.47 1.35L5.41 20z\"/>\n",
              "  </svg>\n",
              "      </button>\n",
              "      \n",
              "  <style>\n",
              "    .colab-df-container {\n",
              "      display:flex;\n",
              "      flex-wrap:wrap;\n",
              "      gap: 12px;\n",
              "    }\n",
              "\n",
              "    .colab-df-convert {\n",
              "      background-color: #E8F0FE;\n",
              "      border: none;\n",
              "      border-radius: 50%;\n",
              "      cursor: pointer;\n",
              "      display: none;\n",
              "      fill: #1967D2;\n",
              "      height: 32px;\n",
              "      padding: 0 0 0 0;\n",
              "      width: 32px;\n",
              "    }\n",
              "\n",
              "    .colab-df-convert:hover {\n",
              "      background-color: #E2EBFA;\n",
              "      box-shadow: 0px 1px 2px rgba(60, 64, 67, 0.3), 0px 1px 3px 1px rgba(60, 64, 67, 0.15);\n",
              "      fill: #174EA6;\n",
              "    }\n",
              "\n",
              "    [theme=dark] .colab-df-convert {\n",
              "      background-color: #3B4455;\n",
              "      fill: #D2E3FC;\n",
              "    }\n",
              "\n",
              "    [theme=dark] .colab-df-convert:hover {\n",
              "      background-color: #434B5C;\n",
              "      box-shadow: 0px 1px 3px 1px rgba(0, 0, 0, 0.15);\n",
              "      filter: drop-shadow(0px 1px 2px rgba(0, 0, 0, 0.3));\n",
              "      fill: #FFFFFF;\n",
              "    }\n",
              "  </style>\n",
              "\n",
              "      <script>\n",
              "        const buttonEl =\n",
              "          document.querySelector('#df-ea407a90-4988-4027-98a0-63ad6c44de8b button.colab-df-convert');\n",
              "        buttonEl.style.display =\n",
              "          google.colab.kernel.accessAllowed ? 'block' : 'none';\n",
              "\n",
              "        async function convertToInteractive(key) {\n",
              "          const element = document.querySelector('#df-ea407a90-4988-4027-98a0-63ad6c44de8b');\n",
              "          const dataTable =\n",
              "            await google.colab.kernel.invokeFunction('convertToInteractive',\n",
              "                                                     [key], {});\n",
              "          if (!dataTable) return;\n",
              "\n",
              "          const docLinkHtml = 'Like what you see? Visit the ' +\n",
              "            '<a target=\"_blank\" href=https://colab.research.google.com/notebooks/data_table.ipynb>data table notebook</a>'\n",
              "            + ' to learn more about interactive tables.';\n",
              "          element.innerHTML = '';\n",
              "          dataTable['output_type'] = 'display_data';\n",
              "          await google.colab.output.renderOutput(dataTable, element);\n",
              "          const docLink = document.createElement('div');\n",
              "          docLink.innerHTML = docLinkHtml;\n",
              "          element.appendChild(docLink);\n",
              "        }\n",
              "      </script>\n",
              "    </div>\n",
              "  </div>\n",
              "  "
            ]
          },
          "metadata": {},
          "execution_count": 7
        }
      ]
    },
    {
      "cell_type": "markdown",
      "source": [
        "## Por Jugador"
      ],
      "metadata": {
        "id": "Vz4s-zD9ITp4"
      }
    },
    {
      "cell_type": "code",
      "source": [
        "# Quitamos Phase, Match No., Match, No. y Team por ser columnas identificativas que no son relevantes para los jugadores\n",
        "player_df = original_df.drop(['Phase', 'Match No.', 'Match', 'No.', 'Team'], axis=1)\n",
        "# Quitamos Scoring porque es info agregada de los demás datos\n",
        "player_df = player_df.drop('scoring',axis=1)"
      ],
      "metadata": {
        "id": "88tEfvdQkvN-"
      },
      "execution_count": null,
      "outputs": []
    },
    {
      "cell_type": "markdown",
      "source": [
        "### Incluyendo porteros"
      ],
      "metadata": {
        "id": "5l-L0yYmIXbz"
      }
    },
    {
      "cell_type": "code",
      "source": [
        "# Establecer la columna Name como index porque es una columna identificativa\n",
        "player_goalkeepers_df = player_df.groupby(['Name'], as_index=True).sum()\n",
        "# Normalizamos los datos\n",
        "player_goalkeepers_df[['7mGoals', '7mMissed', '6mGoals', '6mMissed', 'WingGoals', 'WingMissed', 'BTGoals', 'BTMissed', 'FBGoals', 'FBMissed', 'EGGoals', 'EGMissed', '9mGoals', '9mMissed', 'TF', '2Min', 'AS', 'ST', 'BS', 'Time']] = min_max_scaler.fit_transform(player_goalkeepers_df[['7mGoals', '7mMissed', '6mGoals', '6mMissed', 'WingGoals', 'WingMissed', 'BTGoals', 'BTMissed', 'FBGoals', 'FBMissed', 'EGGoals', 'EGMissed', '9mGoals', '9mMissed', 'TF', '2Min', 'AS', 'ST', 'BS', 'Time']])\n",
        "\n",
        "player_goalkeepers_df.shape"
      ],
      "metadata": {
        "colab": {
          "base_uri": "https://localhost:8080/"
        },
        "id": "s2g4JfFQlZBq",
        "outputId": "b35cb49a-af1e-4075-dd92-d8b2932f00c8"
      },
      "execution_count": null,
      "outputs": [
        {
          "output_type": "execute_result",
          "data": {
            "text/plain": [
              "(607, 20)"
            ]
          },
          "metadata": {},
          "execution_count": 18
        }
      ]
    },
    {
      "cell_type": "markdown",
      "source": [
        "### Excluyendo porteros"
      ],
      "metadata": {
        "id": "OwqX5IfxIaWr"
      }
    },
    {
      "cell_type": "code",
      "source": [
        "player_no_goalkeepers_df = player_df.copy()\n",
        "player_no_goalkeepers_df = player_no_goalkeepers_df[~player_no_goalkeepers_df['Name'].isin(only_goalkeepers['Name'])]\n",
        "# Establecer la columna Name como index porque es una columna identificativa\n",
        "player_no_goalkeepers_df = player_no_goalkeepers_df.groupby(['Name'], as_index=True).sum()\n",
        "# Normalizamos los datos\n",
        "player_no_goalkeepers_df[['7mGoals', '7mMissed', '6mGoals', '6mMissed', 'WingGoals', 'WingMissed', 'BTGoals', 'BTMissed', 'FBGoals', 'FBMissed', 'EGGoals', 'EGMissed', '9mGoals', '9mMissed', 'TF', '2Min', 'AS', 'ST', 'BS', 'Time']] = min_max_scaler.fit_transform(player_no_goalkeepers_df[['7mGoals', '7mMissed', '6mGoals', '6mMissed', 'WingGoals', 'WingMissed', 'BTGoals', 'BTMissed', 'FBGoals', 'FBMissed', 'EGGoals', 'EGMissed', '9mGoals', '9mMissed', 'TF', '2Min', 'AS', 'ST', 'BS', 'Time']])\n",
        "\n",
        "player_no_goalkeepers_df.shape"
      ],
      "metadata": {
        "colab": {
          "base_uri": "https://localhost:8080/"
        },
        "id": "jcAvA5tqldb2",
        "outputId": "79c64564-62db-4525-db23-1d12e3a57e13"
      },
      "execution_count": null,
      "outputs": [
        {
          "output_type": "execute_result",
          "data": {
            "text/plain": [
              "(561, 20)"
            ]
          },
          "metadata": {},
          "execution_count": 16
        }
      ]
    },
    {
      "cell_type": "markdown",
      "source": [
        "# Aplicar PCA\n",
        "\n",
        "Vamos a aplicar PCA para tener solo 2 atributos y poder visualizar los componentes y detectar outliers visualmente.\n",
        "\n",
        "La varianza mantenida es bastante baja. Probamos a cambiar el tipo de escalado de Minmax a Standard e incluso a dejarlo sin escalar, pero lo que da mejor resultado es Minmax."
      ],
      "metadata": {
        "id": "KxBmEUHKefj6"
      }
    },
    {
      "cell_type": "code",
      "source": [
        "estimator = PCA (n_components = 5)"
      ],
      "metadata": {
        "id": "V54HpowCGh1J"
      },
      "execution_count": null,
      "outputs": []
    },
    {
      "cell_type": "markdown",
      "source": [
        "## Por equipos"
      ],
      "metadata": {
        "id": "3tHJLtjdnE7q"
      }
    },
    {
      "cell_type": "markdown",
      "source": [
        "### Con porteros"
      ],
      "metadata": {
        "id": "Ck2OaOmbnHEb"
      }
    },
    {
      "cell_type": "code",
      "source": [
        "\n",
        "team_goalkeepers_df_pca = estimator.fit_transform(team_goalkeepers_df[['7mGoals', '7mMissed', '6mGoals', '6mMissed', 'WingGoals', 'WingMissed', 'BTGoals', 'BTMissed', 'FBGoals', 'FBMissed', 'EGGoals', 'EGMissed', '9mGoals', '9mMissed', 'TF', '2Min', 'AS', 'ST', 'BS']])\n",
        "print(estimator.explained_variance_ratio_) \n",
        "\n",
        "fig, ax = plt.subplots()\n",
        "ax.scatter(team_goalkeepers_df_pca[:,0], team_goalkeepers_df_pca[:,1] ,s=50)\n",
        "\n",
        "for i in range(0,len(team_goalkeepers_df_pca)):\n",
        "    ax.annotate(team_goalkeepers_df.index[i], (team_goalkeepers_df_pca[i,0], team_goalkeepers_df_pca[i,1]))"
      ],
      "metadata": {
        "id": "2c0kHGbQnBWR",
        "colab": {
          "base_uri": "https://localhost:8080/",
          "height": 284
        },
        "outputId": "c2173f01-29a6-45a6-94a7-5766ecc09793"
      },
      "execution_count": null,
      "outputs": [
        {
          "output_type": "stream",
          "name": "stdout",
          "text": [
            "[0.44153827 0.13581882 0.07407444 0.0591404  0.04569744]\n"
          ]
        },
        {
          "output_type": "display_data",
          "data": {
            "text/plain": [
              "<Figure size 432x288 with 1 Axes>"
            ],
            "image/png": "[encoded data removed]"
          },
          "metadata": {
            "needs_background": "light"
          }
        }
      ]
    },
    {
      "cell_type": "markdown",
      "source": [
        "### Sin porteros"
      ],
      "metadata": {
        "id": "ZOQJdXEpnJqB"
      }
    },
    {
      "cell_type": "code",
      "source": [
        "team_no_goalkeepers_df_pca = estimator.fit_transform(team_no_goalkeepers_df[['7mGoals', '7mMissed', '6mGoals', '6mMissed', 'WingGoals', 'WingMissed', 'BTGoals', 'BTMissed', 'FBGoals', 'FBMissed', 'EGGoals', 'EGMissed', '9mGoals', '9mMissed', 'TF', '2Min', 'AS', 'ST', 'BS']])\n",
        "print(estimator.explained_variance_ratio_) \n",
        "\n",
        "\n",
        "fig, ax = plt.subplots()\n",
        "ax.scatter(team_no_goalkeepers_df_pca[:,0], team_no_goalkeepers_df_pca[:,1] ,s=50)\n",
        "\n",
        "for i in range(0,len(team_no_goalkeepers_df_pca)):\n",
        "    ax.annotate(team_no_goalkeepers_df.index[i], (team_no_goalkeepers_df_pca[i,0], team_no_goalkeepers_df_pca[i,1]))"
      ],
      "metadata": {
        "id": "iwko3S0rnLvh",
        "colab": {
          "base_uri": "https://localhost:8080/",
          "height": 284
        },
        "outputId": "b7255603-5c18-462b-ab86-5ac2ff47b361"
      },
      "execution_count": null,
      "outputs": [
        {
          "output_type": "stream",
          "name": "stdout",
          "text": [
            "[0.44153827 0.13581882 0.07407444 0.0591404  0.04569744]\n"
          ]
        },
        {
          "output_type": "display_data",
          "data": {
            "text/plain": [
              "<Figure size 432x288 with 1 Axes>"
            ],
            "image/png": "[encoded data removed]"
          },
          "metadata": {
            "needs_background": "light"
          }
        }
      ]
    },
    {
      "cell_type": "markdown",
      "source": [
        "## Por jugador"
      ],
      "metadata": {
        "id": "vMNs4u44nM1M"
      }
    },
    {
      "cell_type": "markdown",
      "source": [
        "### Con porteros"
      ],
      "metadata": {
        "id": "I1TftfGenOxq"
      }
    },
    {
      "cell_type": "code",
      "source": [
        "player_goalkeepers_df_pca = estimator.fit_transform(player_goalkeepers_df[['7mGoals', '7mMissed', '6mGoals', '6mMissed', 'WingGoals', 'WingMissed', 'BTGoals', 'BTMissed', 'FBGoals', 'FBMissed', 'EGGoals', 'EGMissed', '9mGoals', '9mMissed', 'TF', '2Min', 'AS', 'ST', 'BS']])\n",
        "print(estimator.explained_variance_ratio_) \n",
        "\n",
        "fig, ax = plt.subplots()\n",
        "ax.scatter(player_goalkeepers_df_pca[:,0], player_goalkeepers_df_pca[:,1] ,s=50)\n",
        "\n",
        "for i in range(0,len(player_goalkeepers_df_pca)):\n",
        "    ax.annotate(player_goalkeepers_df.index[i], (player_goalkeepers_df_pca[i,0], player_goalkeepers_df_pca[i,1]))"
      ],
      "metadata": {
        "colab": {
          "base_uri": "https://localhost:8080/",
          "height": 72
        },
        "id": "5IR_JmB6LuL4",
        "outputId": "723c664e-a150-4b7c-ef91-0875a365ff26"
      },
      "execution_count": null,
      "outputs": [
        {
          "output_type": "stream",
          "name": "stdout",
          "text": [
            "[0.24948252 0.1988552  0.1051322  0.07097456 0.05542715]\n"
          ]
        },
        {
          "output_type": "display_data",
          "data": {
            "text/plain": [
              "<Figure size 432x288 with 1 Axes>"
            ],
            "image/png": "[encoded data removed]"
          },
          "metadata": {
            "needs_background": "light"
          }
        }
      ]
    },
    {
      "cell_type": "markdown",
      "source": [
        "### Sin porteros"
      ],
      "metadata": {
        "id": "-nG7OCGunRIl"
      }
    },
    {
      "cell_type": "code",
      "source": [
        "player_no_goalkeepers_df_pca = estimator.fit_transform(player_no_goalkeepers_df[['7mGoals', '7mMissed', '6mGoals', '6mMissed', 'WingGoals', 'WingMissed', 'BTGoals', 'BTMissed', 'FBGoals', 'FBMissed', 'EGGoals', 'EGMissed', '9mGoals', '9mMissed', 'TF', '2Min', 'AS', 'ST', 'BS']])\n",
        "print(estimator.explained_variance_ratio_) \n",
        "\n",
        "fig, ax = plt.subplots()\n",
        "ax.scatter(player_no_goalkeepers_df_pca[:,0], player_no_goalkeepers_df_pca[:,1] ,s=50)\n",
        "\n",
        "for i in range(0,len(player_no_goalkeepers_df_pca)):\n",
        "    ax.annotate(player_no_goalkeepers_df.index[i], (player_no_goalkeepers_df_pca[i,0], player_no_goalkeepers_df_pca[i,1]))"
      ],
      "metadata": {
        "colab": {
          "base_uri": "https://localhost:8080/",
          "height": 72
        },
        "id": "Z1TM3FRsL6NR",
        "outputId": "7c45e19b-589a-405f-85eb-409410942202"
      },
      "execution_count": null,
      "outputs": [
        {
          "output_type": "stream",
          "name": "stdout",
          "text": [
            "[0.23892466 0.19961115 0.10577054 0.07260699 0.05673736]\n"
          ]
        },
        {
          "output_type": "display_data",
          "data": {
            "text/plain": [
              "<Figure size 432x288 with 1 Axes>"
            ],
            "image/png": "[encoded data removed]"
          },
          "metadata": {
            "needs_background": "light"
          }
        }
      ]
    },
    {
      "cell_type": "markdown",
      "source": [
        "# Ejecución del algoritmo\n",
        "\n",
        "Por lo que se nos ha comentado en clase, no hay ninguna técnica específica para calcular el mejor valor del número de componentes al contrario de lo que pasaba con la K de K-means."
      ],
      "metadata": {
        "id": "FznKVMM8I96X"
      }
    }
  ]
}